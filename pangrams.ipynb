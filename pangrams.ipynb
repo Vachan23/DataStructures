{
 "cells": [
  {
   "cell_type": "code",
   "execution_count": null,
   "metadata": {},
   "outputs": [],
   "source": [
    "import math\n",
    "import os\n",
    "import random\n",
    "import re\n",
    "import sys\n",
    "\n",
    "def pangrams(s):\n",
    "    # Write your code here\n",
    "    s = s.lower()\n",
    "    s = set(s)\n",
    "    if len(s)==27:\n",
    "        return 'pangram'\n",
    "    else:\n",
    "        return 'not pangram'\n"
   ]
  }
 ],
 "metadata": {
  "language_info": {
   "name": "python"
  }
 },
 "nbformat": 4,
 "nbformat_minor": 2
}
