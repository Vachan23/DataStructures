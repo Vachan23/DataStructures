{
 "cells": [
  {
   "cell_type": "code",
   "execution_count": null,
   "metadata": {},
   "outputs": [],
   "source": [
    "import math\n",
    "import os\n",
    "import random\n",
    "import re\n",
    "\n",
    "\n",
    "def breakingRecords(scores):\n",
    "    most, least = scores[0], scores[0]\n",
    "    countmax, countmin = 0, 0\n",
    "    for i in scores:\n",
    "        if i<least:\n",
    "            least = i\n",
    "            countmin+=1\n",
    "        if i>most:\n",
    "            most = i\n",
    "            countmax+=1\n",
    "    return [countmax,countmin]\n"
   ]
  }
 ],
 "metadata": {
  "language_info": {
   "name": "python"
  }
 },
 "nbformat": 4,
 "nbformat_minor": 2
}
