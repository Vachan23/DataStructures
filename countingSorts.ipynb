{
 "cells": [
  {
   "cell_type": "code",
   "execution_count": null,
   "metadata": {},
   "outputs": [],
   "source": [
    "import math\n",
    "import os\n",
    "import random\n",
    "import re\n",
    "import sys\n",
    "\n",
    "def countingSort(arr):\n",
    "    # Write your code here\n",
    "    maxi = 100\n",
    "    res =[0]*maxi\n",
    "    arr.sort()\n",
    "    for x in arr:\n",
    "        res[x]+=1\n",
    "    return res\n"
   ]
  }
 ],
 "metadata": {
  "language_info": {
   "name": "python"
  }
 },
 "nbformat": 4,
 "nbformat_minor": 2
}
