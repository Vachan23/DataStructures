{
 "cells": [
  {
   "cell_type": "code",
   "execution_count": null,
   "metadata": {},
   "outputs": [],
   "source": [
    "import math\n",
    "import os\n",
    "import random\n",
    "import re\n",
    "import sys\n",
    "\n",
    "\n",
    "def plusMinus(arr):\n",
    "    # Write your code here\n",
    "    p = n = z =0\n",
    "    \n",
    "    for i in arr:\n",
    "        p += i >0\n",
    "        n += i<0\n",
    "        z += i==0        \n",
    "        l = len(arr)\n",
    "    \n",
    "    print(round(p/l,6))\n",
    "    print(round(n/l,6))\n",
    "    print(round(z/l,6))"
   ]
  }
 ],
 "metadata": {
  "language_info": {
   "name": "python"
  }
 },
 "nbformat": 4,
 "nbformat_minor": 2
}
