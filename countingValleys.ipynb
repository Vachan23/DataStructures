{
 "cells": [
  {
   "cell_type": "code",
   "execution_count": null,
   "metadata": {},
   "outputs": [],
   "source": [
    "import math\n",
    "import os\n",
    "import random\n",
    "import re\n",
    "import sys\n",
    "\n",
    "def countingValleys(steps, path):\n",
    "    # Write your code here\n",
    "    count = 0\n",
    "    valleys = 0\n",
    "    for i in range(len(path)):\n",
    "        if path[i] == 'D':\n",
    "            count+=1\n",
    "        elif path[i] == 'U':\n",
    "            count-=1\n",
    "            if count == 0:\n",
    "                valleys+=1\n",
    "    return valleys\n"
   ]
  }
 ],
 "metadata": {
  "language_info": {
   "name": "python"
  }
 },
 "nbformat": 4,
 "nbformat_minor": 2
}
