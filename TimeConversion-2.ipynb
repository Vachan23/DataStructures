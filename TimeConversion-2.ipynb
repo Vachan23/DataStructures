{
 "cells": [
  {
   "cell_type": "code",
   "execution_count": null,
   "metadata": {},
   "outputs": [],
   "source": [
    "import math\n",
    "import os\n",
    "import random\n",
    "import re\n",
    "import sys\n",
    "\n",
    "\n",
    "def timeConversion(s):\n",
    "    time = s[:8]\n",
    "    am_pm = s[8:]\n",
    "    h, m, s = time.split(\":\")\n",
    "    h = int(h)\n",
    "    if am_pm == 'PM':\n",
    "        if h!=12:\n",
    "            h+=12\n",
    "        return f'{h}:{m}:{s}'\n",
    "    else:\n",
    "        if h==12:\n",
    "            h=00\n",
    "        h = '0' + str(h)\n",
    "        return f'{h}:{m}:{s}'\n"
   ]
  }
 ],
 "metadata": {
  "language_info": {
   "name": "python"
  }
 },
 "nbformat": 4,
 "nbformat_minor": 2
}
